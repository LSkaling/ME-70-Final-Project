{
 "cells": [
  {
   "cell_type": "code",
   "execution_count": null,
   "metadata": {},
   "outputs": [],
   "source": [
    "#Problem variables\n",
    "cylinder_length = 50 #m\n",
    "cylinder_diameter = 3 #m\n",
    "water_reservoir_length = 100 #m\n",
    "\n",
    "water_density = 1000 #kg/m^3\n",
    "air_density = 1.2 #kg/m^3\n"
   ]
  },
  {
   "cell_type": "code",
   "execution_count": null,
   "metadata": {},
   "outputs": [],
   "source": [
    "def get_cylinder_volume(cylinder_length, cylinder_diameter):\n",
    "    cylinder_radius = cylinder_diameter / 2\n",
    "    cylinder_straight_length = cylinder_length - cylinder_diameter\n",
    "    return cylinder_straight_length * 3.14159 * cylinder_radius**2 + (4/3) * 3.14159 * cylinder_radius**3 #volume of cylinder + volume of two hemispheres"
   ]
  },
  {
   "cell_type": "code",
   "execution_count": null,
   "metadata": {},
   "outputs": [],
   "source": [
    "water_volume = get_cylinder_volume(water_reservoir_length, cylinder_diameter)\n",
    "water_mass = water_volume * water_density\n",
    "\n",
    "air_volume = get_cylinder_volume(cylinder_length, cylinder_diameter) - water_volume\n",
    "air_mass = air_volume * air_density"
   ]
  },
  {
   "cell_type": "code",
   "execution_count": null,
   "metadata": {},
   "outputs": [],
   "source": [
    "def get_center_of_mass(water_mass, air_mass, cylinder_length, water_reservoir_length):\n",
    "    water_center_of_mass = water_reservoir_length / 2\n",
    "    air_center_of_mass = cylinder_length / 2\n",
    "    total_mass = water_mass + air_mass\n",
    "    return (water_center_of_mass * water_mass + air_center_of_mass * air_mass) / total_mass"
   ]
  },
  {
   "cell_type": "code",
   "execution_count": null,
   "metadata": {},
   "outputs": [],
   "source": [
    "import math\n",
    "\n",
    "## Determine flow rate given gravity gradient\n",
    "\n",
    "gravity_gradient = 0 #m/s^2 per meter\n",
    "max_gravity = 9.8 #m/s^2\n",
    "\n",
    "# I need to find pressure at end given depth of water in the cylinder\n",
    "def get_gravity_at_depth(depth, gravity_gradient, end_gravity):\n",
    "    return end_gravity - gravity_gradient * depth\n",
    "\n",
    "def get_discharge_velocity(water_height, gravity_gradient, end_gravity):\n",
    "        return math.sqrt(2 * (max_gravity - (water_height**2 / 2) * gravity_gradient))\n",
    "\n",
    "# volume flow rate\n",
    "def get_volume_flow_rate(water_height, orifice_diameter, gravity_gradient, end_gravity):\n",
    "    return get_discharge_velocity(water_height, gravity_gradient, end_gravity) * 3.14159 * (orifice_diameter / 2)**2\n",
    "\n",
    "# get time to empty - must integrate over time since flow rate is not constant\n",
    "def get_time_to_empty(water_height, orifice_diameter, gravity_gradient, end_gravity, water_volume):\n",
    "    lost_volume = 0\n",
    "    time = 0\n",
    "    dt = 0.01\n",
    "    while lost_volume < water_volume:\n",
    "        lost_volume += get_volume_flow_rate(water_height, orifice_diameter, gravity_gradient, end_gravity) * dt\n",
    "        time += dt\n",
    "    return time\n",
    "    \n"
   ]
  }
 ],
 "metadata": {
  "language_info": {
   "name": "python"
  }
 },
 "nbformat": 4,
 "nbformat_minor": 2
}
