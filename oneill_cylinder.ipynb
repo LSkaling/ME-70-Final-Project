{
 "cells": [
  {
   "cell_type": "code",
   "execution_count": null,
   "metadata": {},
   "outputs": [],
   "source": [
    "#Problem variables\n",
    "cylinder_length = 50 #m\n",
    "cylinder_diameter = 3 #m\n",
    "water_reservoir_length = 100 #m\n",
    "\n",
    "water_density = 1000 #kg/m^3\n",
    "air_density = 1.2 #kg/m^3\n"
   ]
  },
  {
   "cell_type": "code",
   "execution_count": null,
   "metadata": {},
   "outputs": [],
   "source": [
    "def get_cylinder_volume(cylinder_length, cylinder_diameter):\n",
    "    cylinder_radius = cylinder_diameter / 2\n",
    "    cylinder_straight_length = cylinder_length - cylinder_diameter\n",
    "    return cylinder_straight_length * 3.14159 * cylinder_radius**2 + (4/3) * 3.14159 * cylinder_radius**3 #volume of cylinder + volume of two hemispheres"
   ]
  },
  {
   "cell_type": "code",
   "execution_count": null,
   "metadata": {},
   "outputs": [],
   "source": [
    "water_volume = get_cylinder_volume(water_reservoir_length, cylinder_diameter)\n",
    "water_mass = water_volume * water_density\n",
    "\n",
    "air_volume = get_cylinder_volume(cylinder_length, cylinder_diameter) - water_volume\n",
    "air_mass = air_volume * air_density"
   ]
  },
  {
   "cell_type": "code",
   "execution_count": null,
   "metadata": {},
   "outputs": [],
   "source": [
    "get_water_weight = get_cylinder_volume(cylinder_length, cylinder_diameter) * water_density"
   ]
  }
 ],
 "metadata": {
  "language_info": {
   "name": "python"
  }
 },
 "nbformat": 4,
 "nbformat_minor": 2
}
